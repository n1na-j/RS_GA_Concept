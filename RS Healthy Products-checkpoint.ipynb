{
 "cells": [
  {
   "cell_type": "markdown",
   "metadata": {},
   "source": [
    "# Part I: Find healthy alternatives\n",
    "The first part of the recommendation system has the aim to find healthy products (Nutri-Score A or B) which are similar to the unhealthier (Nutri-Score C or lower) original product. "
   ]
  },
  {
   "cell_type": "markdown",
   "metadata": {},
   "source": [
    "### Libraries"
   ]
  },
  {
   "cell_type": "code",
   "execution_count": null,
   "metadata": {},
   "outputs": [],
   "source": [
    "import numpy as np\n",
    "import pandas as pd\n",
    "import matplotlib as plt\n",
    "import difflib\n",
    "from spacy.lang.nl.stop_words import STOP_WORDS as nl_stop\n",
    "from sklearn.feature_extraction.text import TfidfVectorizer\n",
    "from sklearn.metrics.pairwise import linear_kernel\n",
    "from sklearn.feature_extraction.text import CountVectorizer \n",
    "from sklearn.metrics.pairwise import cosine_similarity\n",
    "from ast import literal_eval "
   ]
  },
  {
   "cell_type": "markdown",
   "metadata": {},
   "source": [
    "### Inspect data"
   ]
  },
  {
   "cell_type": "code",
   "execution_count": null,
   "metadata": {},
   "outputs": [],
   "source": [
    "df1 = pd.read_excel(r\"C:\\Users\\ninaj\\Documents\\Data-Driven Design Y2\\Graduation Project\\Week 9\\data\\labelled_products.xlsx\")\n",
    "df1.head()"
   ]
  },
  {
   "cell_type": "code",
   "execution_count": null,
   "metadata": {},
   "outputs": [],
   "source": [
    "df1.info()"
   ]
  },
  {
   "cell_type": "code",
   "execution_count": null,
   "metadata": {},
   "outputs": [],
   "source": [
    "df1['Description'].head"
   ]
  },
  {
   "cell_type": "markdown",
   "metadata": {},
   "source": [
    "### Convert words from the product description into vectors\n",
    "The vectors will be computed by Term Frequency-Inverse Document Frequency. This is a statistical measure to evaluate how important a word is in the collection of all words. Term frequency can be defined as the number of times a word is counted in the collection of all words. Inverse Dcoument Frequency is a logarithm which measure how important a word is. "
   ]
  },
  {
   "cell_type": "code",
   "execution_count": 64,
   "metadata": {},
   "outputs": [
    {
     "data": {
      "text/plain": [
       "(3400, 3470)"
      ]
     },
     "execution_count": 64,
     "metadata": {},
     "output_type": "execute_result"
    }
   ],
   "source": [
    "# Remove all Dutch stop words\n",
    "stopwords_list = list(nl_stop)\n",
    "\n",
    "# Define the Term Frequency-Inverse Document Frequency object. \n",
    "tfidf = TfidfVectorizer(stop_words=stopwords_list)\n",
    "\n",
    "# Construct the required TF-TDF matrix by fitting and transforming the data\n",
    "tfidf_matrx = tfidf.fit_transform(df1['Description'].astype(str))\n",
    "\n",
    "# Output is the shape of tfidf_matrix\n",
    "tfidf_matrx.shape"
   ]
  },
  {
   "cell_type": "markdown",
   "metadata": {},
   "source": [
    "### Cosine similarity \n",
    "The tfidf_matrix will be put into a cosine similarity made with the linear_kernel function.\n"
   ]
  },
  {
   "cell_type": "code",
   "execution_count": 65,
   "metadata": {},
   "outputs": [],
   "source": [
    "# Calculate the cosine similarity matrix\n",
    "cosine_sim = linear_kernel(tfidf_matrx, tfidf_matrx)"
   ]
  },
  {
   "cell_type": "markdown",
   "metadata": {},
   "source": [
    "### Reverse mapping\n",
    "A top 10 of most similar products will be made. Therefore, we need to make a function for the reverse mapping of the product titles and indices. This is needed to identify the index of a product."
   ]
  },
  {
   "cell_type": "code",
   "execution_count": 66,
   "metadata": {},
   "outputs": [],
   "source": [
    "# Construct a reverse map of indices and products\n",
    "indices = pd.Series(df1.index, index=df1['Title'])"
   ]
  },
  {
   "cell_type": "code",
   "execution_count": 67,
   "metadata": {},
   "outputs": [],
   "source": [
    "# A function for creating a top 10 of similar products\n",
    "def get_recommendations(title, cosine=cosine_sim):\n",
    "    # Get the index of the product which matches the title\n",
    "    idx = indices[title]\n",
    "    \n",
    "    # Get the pairwise similarity scores of all products with that product\n",
    "    sim_scores = list(enumerate(cosine_sim[idx]))\n",
    "    \n",
    "    # Sort the products on the similarity scores\n",
    "    sim_scores= sorted(sim_scores, key=lambda x: x[1], reverse=True)\n",
    "    \n",
    "    # Get the scores of the 10 most similar products\n",
    "    sim_scors = sim_scores[1:11]\n",
    "    \n",
    "    # Get the product indices\n",
    "    product_indices = [i[0] for i in sim_scores]\n",
    "    \n",
    "    # Return the top 10 most similar products\n",
    "    return df1.iloc[product_indices]"
   ]
  },
  {
   "cell_type": "markdown",
   "metadata": {},
   "source": [
    "### CountVectorizer\n",
    "The CountVectorizer can be used for couting the number of times a certain Nutri-Score appears"
   ]
  },
  {
   "cell_type": "code",
   "execution_count": 76,
   "metadata": {},
   "outputs": [],
   "source": [
    "# Import CountVectorizer and create the count matrix\n",
    "count = CountVectorizer()\n",
    "count_matrix = count.fit_transform(df1['Nutri-Score'].values.astype('U'))"
   ]
  },
  {
   "cell_type": "code",
   "execution_count": 77,
   "metadata": {},
   "outputs": [],
   "source": [
    "# Compute the cosine similarity matrix based on the count_matrix\n",
    "cosine_sim2 = cosine_similarity(count_matrix, count_matrix)"
   ]
  },
  {
   "cell_type": "code",
   "execution_count": 75,
   "metadata": {},
   "outputs": [
    {
     "ename": "ValueError",
     "evalue": "cannot insert level_0, already exists",
     "output_type": "error",
     "traceback": [
      "\u001b[1;31m---------------------------------------------------------------------------\u001b[0m",
      "\u001b[1;31mValueError\u001b[0m                                Traceback (most recent call last)",
      "\u001b[1;32m<ipython-input-75-fe6713dd7d87>\u001b[0m in \u001b[0;36m<module>\u001b[1;34m\u001b[0m\n\u001b[0;32m      1\u001b[0m \u001b[1;31m# Reset the index of our main DataFrame and construct reverse mapping\u001b[0m\u001b[1;33m\u001b[0m\u001b[1;33m\u001b[0m\u001b[1;33m\u001b[0m\u001b[0m\n\u001b[1;32m----> 2\u001b[1;33m \u001b[0mdf1\u001b[0m \u001b[1;33m=\u001b[0m \u001b[0mdf1\u001b[0m\u001b[1;33m.\u001b[0m\u001b[0mreset_index\u001b[0m\u001b[1;33m(\u001b[0m\u001b[1;33m)\u001b[0m\u001b[1;33m\u001b[0m\u001b[1;33m\u001b[0m\u001b[0m\n\u001b[0m\u001b[0;32m      3\u001b[0m \u001b[0mindices\u001b[0m \u001b[1;33m=\u001b[0m \u001b[0mpd\u001b[0m\u001b[1;33m.\u001b[0m\u001b[0mSeries\u001b[0m\u001b[1;33m(\u001b[0m\u001b[0mdf1\u001b[0m\u001b[1;33m.\u001b[0m\u001b[0mindex\u001b[0m\u001b[1;33m,\u001b[0m \u001b[0mindex\u001b[0m\u001b[1;33m=\u001b[0m\u001b[0mdf1\u001b[0m\u001b[1;33m[\u001b[0m\u001b[1;34m'Title'\u001b[0m\u001b[1;33m]\u001b[0m\u001b[1;33m)\u001b[0m\u001b[1;33m\u001b[0m\u001b[1;33m\u001b[0m\u001b[0m\n",
      "\u001b[1;32m~\\anaconda3\\lib\\site-packages\\pandas\\core\\frame.py\u001b[0m in \u001b[0;36mreset_index\u001b[1;34m(self, level, drop, inplace, col_level, col_fill)\u001b[0m\n\u001b[0;32m   4602\u001b[0m                 \u001b[1;31m# to ndarray and maybe infer different dtype\u001b[0m\u001b[1;33m\u001b[0m\u001b[1;33m\u001b[0m\u001b[1;33m\u001b[0m\u001b[0m\n\u001b[0;32m   4603\u001b[0m                 \u001b[0mlevel_values\u001b[0m \u001b[1;33m=\u001b[0m \u001b[0m_maybe_casted_values\u001b[0m\u001b[1;33m(\u001b[0m\u001b[0mlev\u001b[0m\u001b[1;33m,\u001b[0m \u001b[0mlab\u001b[0m\u001b[1;33m)\u001b[0m\u001b[1;33m\u001b[0m\u001b[1;33m\u001b[0m\u001b[0m\n\u001b[1;32m-> 4604\u001b[1;33m                 \u001b[0mnew_obj\u001b[0m\u001b[1;33m.\u001b[0m\u001b[0minsert\u001b[0m\u001b[1;33m(\u001b[0m\u001b[1;36m0\u001b[0m\u001b[1;33m,\u001b[0m \u001b[0mname\u001b[0m\u001b[1;33m,\u001b[0m \u001b[0mlevel_values\u001b[0m\u001b[1;33m)\u001b[0m\u001b[1;33m\u001b[0m\u001b[1;33m\u001b[0m\u001b[0m\n\u001b[0m\u001b[0;32m   4605\u001b[0m \u001b[1;33m\u001b[0m\u001b[0m\n\u001b[0;32m   4606\u001b[0m         \u001b[0mnew_obj\u001b[0m\u001b[1;33m.\u001b[0m\u001b[0mindex\u001b[0m \u001b[1;33m=\u001b[0m \u001b[0mnew_index\u001b[0m\u001b[1;33m\u001b[0m\u001b[1;33m\u001b[0m\u001b[0m\n",
      "\u001b[1;32m~\\anaconda3\\lib\\site-packages\\pandas\\core\\frame.py\u001b[0m in \u001b[0;36minsert\u001b[1;34m(self, loc, column, value, allow_duplicates)\u001b[0m\n\u001b[0;32m   3494\u001b[0m         \u001b[0mself\u001b[0m\u001b[1;33m.\u001b[0m\u001b[0m_ensure_valid_index\u001b[0m\u001b[1;33m(\u001b[0m\u001b[0mvalue\u001b[0m\u001b[1;33m)\u001b[0m\u001b[1;33m\u001b[0m\u001b[1;33m\u001b[0m\u001b[0m\n\u001b[0;32m   3495\u001b[0m         \u001b[0mvalue\u001b[0m \u001b[1;33m=\u001b[0m \u001b[0mself\u001b[0m\u001b[1;33m.\u001b[0m\u001b[0m_sanitize_column\u001b[0m\u001b[1;33m(\u001b[0m\u001b[0mcolumn\u001b[0m\u001b[1;33m,\u001b[0m \u001b[0mvalue\u001b[0m\u001b[1;33m,\u001b[0m \u001b[0mbroadcast\u001b[0m\u001b[1;33m=\u001b[0m\u001b[1;32mFalse\u001b[0m\u001b[1;33m)\u001b[0m\u001b[1;33m\u001b[0m\u001b[1;33m\u001b[0m\u001b[0m\n\u001b[1;32m-> 3496\u001b[1;33m         \u001b[0mself\u001b[0m\u001b[1;33m.\u001b[0m\u001b[0m_data\u001b[0m\u001b[1;33m.\u001b[0m\u001b[0minsert\u001b[0m\u001b[1;33m(\u001b[0m\u001b[0mloc\u001b[0m\u001b[1;33m,\u001b[0m \u001b[0mcolumn\u001b[0m\u001b[1;33m,\u001b[0m \u001b[0mvalue\u001b[0m\u001b[1;33m,\u001b[0m \u001b[0mallow_duplicates\u001b[0m\u001b[1;33m=\u001b[0m\u001b[0mallow_duplicates\u001b[0m\u001b[1;33m)\u001b[0m\u001b[1;33m\u001b[0m\u001b[1;33m\u001b[0m\u001b[0m\n\u001b[0m\u001b[0;32m   3497\u001b[0m \u001b[1;33m\u001b[0m\u001b[0m\n\u001b[0;32m   3498\u001b[0m     \u001b[1;32mdef\u001b[0m \u001b[0massign\u001b[0m\u001b[1;33m(\u001b[0m\u001b[0mself\u001b[0m\u001b[1;33m,\u001b[0m \u001b[1;33m**\u001b[0m\u001b[0mkwargs\u001b[0m\u001b[1;33m)\u001b[0m \u001b[1;33m->\u001b[0m \u001b[1;34m\"DataFrame\"\u001b[0m\u001b[1;33m:\u001b[0m\u001b[1;33m\u001b[0m\u001b[1;33m\u001b[0m\u001b[0m\n",
      "\u001b[1;32m~\\anaconda3\\lib\\site-packages\\pandas\\core\\internals\\managers.py\u001b[0m in \u001b[0;36minsert\u001b[1;34m(self, loc, item, value, allow_duplicates)\u001b[0m\n\u001b[0;32m   1171\u001b[0m         \u001b[1;32mif\u001b[0m \u001b[1;32mnot\u001b[0m \u001b[0mallow_duplicates\u001b[0m \u001b[1;32mand\u001b[0m \u001b[0mitem\u001b[0m \u001b[1;32min\u001b[0m \u001b[0mself\u001b[0m\u001b[1;33m.\u001b[0m\u001b[0mitems\u001b[0m\u001b[1;33m:\u001b[0m\u001b[1;33m\u001b[0m\u001b[1;33m\u001b[0m\u001b[0m\n\u001b[0;32m   1172\u001b[0m             \u001b[1;31m# Should this be a different kind of error??\u001b[0m\u001b[1;33m\u001b[0m\u001b[1;33m\u001b[0m\u001b[1;33m\u001b[0m\u001b[0m\n\u001b[1;32m-> 1173\u001b[1;33m             \u001b[1;32mraise\u001b[0m \u001b[0mValueError\u001b[0m\u001b[1;33m(\u001b[0m\u001b[1;34mf\"cannot insert {item}, already exists\"\u001b[0m\u001b[1;33m)\u001b[0m\u001b[1;33m\u001b[0m\u001b[1;33m\u001b[0m\u001b[0m\n\u001b[0m\u001b[0;32m   1174\u001b[0m \u001b[1;33m\u001b[0m\u001b[0m\n\u001b[0;32m   1175\u001b[0m         \u001b[1;32mif\u001b[0m \u001b[1;32mnot\u001b[0m \u001b[0misinstance\u001b[0m\u001b[1;33m(\u001b[0m\u001b[0mloc\u001b[0m\u001b[1;33m,\u001b[0m \u001b[0mint\u001b[0m\u001b[1;33m)\u001b[0m\u001b[1;33m:\u001b[0m\u001b[1;33m\u001b[0m\u001b[1;33m\u001b[0m\u001b[0m\n",
      "\u001b[1;31mValueError\u001b[0m: cannot insert level_0, already exists"
     ]
    }
   ],
   "source": [
    "# Reset the index of our main DataFrame and construct reverse mapping\n",
    "df1 = df1.reset_index()\n",
    "indices = pd.Series(df1.index, index=df1['Title'])"
   ]
  },
  {
   "cell_type": "code",
   "execution_count": 74,
   "metadata": {},
   "outputs": [
    {
     "data": {
      "text/html": [
       "<div>\n",
       "<style scoped>\n",
       "    .dataframe tbody tr th:only-of-type {\n",
       "        vertical-align: middle;\n",
       "    }\n",
       "\n",
       "    .dataframe tbody tr th {\n",
       "        vertical-align: top;\n",
       "    }\n",
       "\n",
       "    .dataframe thead th {\n",
       "        text-align: right;\n",
       "    }\n",
       "</style>\n",
       "<table border=\"1\" class=\"dataframe\">\n",
       "  <thead>\n",
       "    <tr style=\"text-align: right;\">\n",
       "      <th></th>\n",
       "      <th>level_0</th>\n",
       "      <th>index</th>\n",
       "      <th>Unnamed: 0</th>\n",
       "      <th>Title</th>\n",
       "      <th>Nutri-Score</th>\n",
       "      <th>Description</th>\n",
       "      <th>Price</th>\n",
       "      <th>Price_cat</th>\n",
       "      <th>BIO</th>\n",
       "      <th>Low_sugar</th>\n",
       "      <th>Low_fat</th>\n",
       "      <th>Plant_based</th>\n",
       "      <th>Glutenfree</th>\n",
       "      <th>Fairtrade</th>\n",
       "      <th>UTZ</th>\n",
       "      <th>Vegan</th>\n",
       "      <th>Vegetarian</th>\n",
       "      <th>Nutrients</th>\n",
       "    </tr>\n",
       "  </thead>\n",
       "  <tbody>\n",
       "    <tr>\n",
       "      <th>1435</th>\n",
       "      <td>1435</td>\n",
       "      <td>1435</td>\n",
       "      <td>1435</td>\n",
       "      <td>AH Yoghurt Griekse stijl 0% vet</td>\n",
       "      <td>Nutri-Score A</td>\n",
       "      <td>Yoghurt*0,1% vet*Van weidemelk.Deze Albert Hei...</td>\n",
       "      <td>1.19</td>\n",
       "      <td>Low budget</td>\n",
       "      <td>0.0</td>\n",
       "      <td>0.0</td>\n",
       "      <td>0.0</td>\n",
       "      <td>0.0</td>\n",
       "      <td>0.0</td>\n",
       "      <td>0.0</td>\n",
       "      <td>0.0</td>\n",
       "      <td>0.0</td>\n",
       "      <td>0.0</td>\n",
       "      <td>SoortPer 100 GramEnergie389 kJ (93 kcal)Vet5 g...</td>\n",
       "    </tr>\n",
       "    <tr>\n",
       "      <th>1405</th>\n",
       "      <td>1405</td>\n",
       "      <td>1405</td>\n",
       "      <td>1405</td>\n",
       "      <td>De Zaanse Hoeve Magere yoghurt</td>\n",
       "      <td>Nutri-Score A</td>\n",
       "      <td>magere yoghurt**Van weidemelk.Deze Albert Heij...</td>\n",
       "      <td>0.69</td>\n",
       "      <td>Low budget</td>\n",
       "      <td>0.0</td>\n",
       "      <td>0.0</td>\n",
       "      <td>0.0</td>\n",
       "      <td>0.0</td>\n",
       "      <td>0.0</td>\n",
       "      <td>0.0</td>\n",
       "      <td>0.0</td>\n",
       "      <td>0.0</td>\n",
       "      <td>0.0</td>\n",
       "      <td>SoortPer 100 GramEnergie544 kJ (131 kcal)Vet9....</td>\n",
       "    </tr>\n",
       "    <tr>\n",
       "      <th>1456</th>\n",
       "      <td>1456</td>\n",
       "      <td>1456</td>\n",
       "      <td>1456</td>\n",
       "      <td>AH Smikkeltoetje</td>\n",
       "      <td>Nutri-Score A</td>\n",
       "      <td>Magere yoghurt**Van weidemelk.Deze Albert Heij...</td>\n",
       "      <td>1.79</td>\n",
       "      <td>Medium budget</td>\n",
       "      <td>0.0</td>\n",
       "      <td>0.0</td>\n",
       "      <td>0.0</td>\n",
       "      <td>0.0</td>\n",
       "      <td>0.0</td>\n",
       "      <td>0.0</td>\n",
       "      <td>0.0</td>\n",
       "      <td>0.0</td>\n",
       "      <td>0.0</td>\n",
       "      <td>SoortPer 100 MilliliterEnergie143 kJ (34 kcal)...</td>\n",
       "    </tr>\n",
       "    <tr>\n",
       "      <th>1451</th>\n",
       "      <td>1451</td>\n",
       "      <td>1451</td>\n",
       "      <td>1451</td>\n",
       "      <td>De Zaanse Hoeve Halfvolle yoghurt naturel</td>\n",
       "      <td>Nutri-Score A</td>\n",
       "      <td>Halfvolle yoghurt**Van weidemelk.Deze Albert H...</td>\n",
       "      <td>0.89</td>\n",
       "      <td>Low budget</td>\n",
       "      <td>0.0</td>\n",
       "      <td>0.0</td>\n",
       "      <td>0.0</td>\n",
       "      <td>0.0</td>\n",
       "      <td>0.0</td>\n",
       "      <td>0.0</td>\n",
       "      <td>0.0</td>\n",
       "      <td>0.0</td>\n",
       "      <td>0.0</td>\n",
       "      <td>SoortPer 100 GramRI*Energie215 kJ (52 kcal)Vet...</td>\n",
       "    </tr>\n",
       "    <tr>\n",
       "      <th>1436</th>\n",
       "      <td>1436</td>\n",
       "      <td>1436</td>\n",
       "      <td>1436</td>\n",
       "      <td>AH Witte vrije uitloop eieren</td>\n",
       "      <td>Nutri-Score A</td>\n",
       "      <td>Volle yoghurt**Van weidemelk.Deze Albert Heijn...</td>\n",
       "      <td>1.19</td>\n",
       "      <td>Low budget</td>\n",
       "      <td>0.0</td>\n",
       "      <td>0.0</td>\n",
       "      <td>0.0</td>\n",
       "      <td>0.0</td>\n",
       "      <td>0.0</td>\n",
       "      <td>0.0</td>\n",
       "      <td>0.0</td>\n",
       "      <td>0.0</td>\n",
       "      <td>0.0</td>\n",
       "      <td>SoortPer 100 GramRI*Energie286 kJ (68 kcal)Vet...</td>\n",
       "    </tr>\n",
       "    <tr>\n",
       "      <th>1514</th>\n",
       "      <td>1514</td>\n",
       "      <td>1514</td>\n",
       "      <td>1514</td>\n",
       "      <td>De Zaanse Hoeve Volle yoghurt</td>\n",
       "      <td>Nutri-Score B</td>\n",
       "      <td>volle yoghurt**Van weidemelk.Deze Albert Heijn...</td>\n",
       "      <td>0.95</td>\n",
       "      <td>Low budget</td>\n",
       "      <td>0.0</td>\n",
       "      <td>0.0</td>\n",
       "      <td>0.0</td>\n",
       "      <td>0.0</td>\n",
       "      <td>0.0</td>\n",
       "      <td>0.0</td>\n",
       "      <td>0.0</td>\n",
       "      <td>0.0</td>\n",
       "      <td>0.0</td>\n",
       "      <td>SoortPer 100 MilliliterRI*Energie295 kJ (70 kc...</td>\n",
       "    </tr>\n",
       "    <tr>\n",
       "      <th>1586</th>\n",
       "      <td>1586</td>\n",
       "      <td>1586</td>\n",
       "      <td>1586</td>\n",
       "      <td>AH Milde Hollandse hangop</td>\n",
       "      <td>Nutri-Score B</td>\n",
       "      <td>Ingedikte yoghurt*6% vet*Van weidemelk.Deze Al...</td>\n",
       "      <td>1.49</td>\n",
       "      <td>Low budget</td>\n",
       "      <td>0.0</td>\n",
       "      <td>0.0</td>\n",
       "      <td>0.0</td>\n",
       "      <td>0.0</td>\n",
       "      <td>0.0</td>\n",
       "      <td>0.0</td>\n",
       "      <td>0.0</td>\n",
       "      <td>0.0</td>\n",
       "      <td>0.0</td>\n",
       "      <td>SoortPer 100 MilliliterRI*Energie2590 kJ (630 ...</td>\n",
       "    </tr>\n",
       "    <tr>\n",
       "      <th>1611</th>\n",
       "      <td>1611</td>\n",
       "      <td>1611</td>\n",
       "      <td>1611</td>\n",
       "      <td>AH Griekse stijl portie</td>\n",
       "      <td>Nutri-Score C</td>\n",
       "      <td>Yoghurt* 10% vet *Van weidemelk.Deze Albert He...</td>\n",
       "      <td>0.59</td>\n",
       "      <td>Low budget</td>\n",
       "      <td>0.0</td>\n",
       "      <td>0.0</td>\n",
       "      <td>0.0</td>\n",
       "      <td>0.0</td>\n",
       "      <td>0.0</td>\n",
       "      <td>0.0</td>\n",
       "      <td>0.0</td>\n",
       "      <td>0.0</td>\n",
       "      <td>0.0</td>\n",
       "      <td>SoortPer 100 MilliliterEnergie405 kJ (96 kcal)...</td>\n",
       "    </tr>\n",
       "    <tr>\n",
       "      <th>1634</th>\n",
       "      <td>1634</td>\n",
       "      <td>1634</td>\n",
       "      <td>1634</td>\n",
       "      <td>AH Yoghurt Griekse stijl</td>\n",
       "      <td>Nutri-Score C</td>\n",
       "      <td>Yoghurt* 10% vet*Van weidemelk.Deze Albert Hei...</td>\n",
       "      <td>1.79</td>\n",
       "      <td>Medium budget</td>\n",
       "      <td>0.0</td>\n",
       "      <td>0.0</td>\n",
       "      <td>0.0</td>\n",
       "      <td>0.0</td>\n",
       "      <td>0.0</td>\n",
       "      <td>0.0</td>\n",
       "      <td>0.0</td>\n",
       "      <td>0.0</td>\n",
       "      <td>0.0</td>\n",
       "      <td>SoortPer 100 GramEnergie2794 kJ (679 kcal)Vet7...</td>\n",
       "    </tr>\n",
       "    <tr>\n",
       "      <th>1626</th>\n",
       "      <td>1626</td>\n",
       "      <td>1626</td>\n",
       "      <td>1626</td>\n",
       "      <td>AH Yoghurt Griekse stijl 10% vet</td>\n",
       "      <td>Nutri-Score C</td>\n",
       "      <td>Yoghurt10% vet*Van weidemelk.Deze Albert Heijn...</td>\n",
       "      <td>1.35</td>\n",
       "      <td>Low budget</td>\n",
       "      <td>0.0</td>\n",
       "      <td>0.0</td>\n",
       "      <td>0.0</td>\n",
       "      <td>0.0</td>\n",
       "      <td>0.0</td>\n",
       "      <td>0.0</td>\n",
       "      <td>0.0</td>\n",
       "      <td>0.0</td>\n",
       "      <td>0.0</td>\n",
       "      <td>SoortPer 100 MilliliterEnergie509 kJ (124 kcal...</td>\n",
       "    </tr>\n",
       "  </tbody>\n",
       "</table>\n",
       "</div>"
      ],
      "text/plain": [
       "      level_0  index  Unnamed: 0                                      Title  \\\n",
       "1435     1435   1435        1435            AH Yoghurt Griekse stijl 0% vet   \n",
       "1405     1405   1405        1405             De Zaanse Hoeve Magere yoghurt   \n",
       "1456     1456   1456        1456                           AH Smikkeltoetje   \n",
       "1451     1451   1451        1451  De Zaanse Hoeve Halfvolle yoghurt naturel   \n",
       "1436     1436   1436        1436              AH Witte vrije uitloop eieren   \n",
       "1514     1514   1514        1514              De Zaanse Hoeve Volle yoghurt   \n",
       "1586     1586   1586        1586                  AH Milde Hollandse hangop   \n",
       "1611     1611   1611        1611                    AH Griekse stijl portie   \n",
       "1634     1634   1634        1634                   AH Yoghurt Griekse stijl   \n",
       "1626     1626   1626        1626           AH Yoghurt Griekse stijl 10% vet   \n",
       "\n",
       "        Nutri-Score                                        Description  Price  \\\n",
       "1435  Nutri-Score A  Yoghurt*0,1% vet*Van weidemelk.Deze Albert Hei...   1.19   \n",
       "1405  Nutri-Score A  magere yoghurt**Van weidemelk.Deze Albert Heij...   0.69   \n",
       "1456  Nutri-Score A  Magere yoghurt**Van weidemelk.Deze Albert Heij...   1.79   \n",
       "1451  Nutri-Score A  Halfvolle yoghurt**Van weidemelk.Deze Albert H...   0.89   \n",
       "1436  Nutri-Score A  Volle yoghurt**Van weidemelk.Deze Albert Heijn...   1.19   \n",
       "1514  Nutri-Score B  volle yoghurt**Van weidemelk.Deze Albert Heijn...   0.95   \n",
       "1586  Nutri-Score B  Ingedikte yoghurt*6% vet*Van weidemelk.Deze Al...   1.49   \n",
       "1611  Nutri-Score C  Yoghurt* 10% vet *Van weidemelk.Deze Albert He...   0.59   \n",
       "1634  Nutri-Score C  Yoghurt* 10% vet*Van weidemelk.Deze Albert Hei...   1.79   \n",
       "1626  Nutri-Score C  Yoghurt10% vet*Van weidemelk.Deze Albert Heijn...   1.35   \n",
       "\n",
       "          Price_cat  BIO  Low_sugar  Low_fat  Plant_based  Glutenfree  \\\n",
       "1435     Low budget  0.0        0.0      0.0          0.0         0.0   \n",
       "1405     Low budget  0.0        0.0      0.0          0.0         0.0   \n",
       "1456  Medium budget  0.0        0.0      0.0          0.0         0.0   \n",
       "1451     Low budget  0.0        0.0      0.0          0.0         0.0   \n",
       "1436     Low budget  0.0        0.0      0.0          0.0         0.0   \n",
       "1514     Low budget  0.0        0.0      0.0          0.0         0.0   \n",
       "1586     Low budget  0.0        0.0      0.0          0.0         0.0   \n",
       "1611     Low budget  0.0        0.0      0.0          0.0         0.0   \n",
       "1634  Medium budget  0.0        0.0      0.0          0.0         0.0   \n",
       "1626     Low budget  0.0        0.0      0.0          0.0         0.0   \n",
       "\n",
       "      Fairtrade  UTZ  Vegan  Vegetarian  \\\n",
       "1435        0.0  0.0    0.0         0.0   \n",
       "1405        0.0  0.0    0.0         0.0   \n",
       "1456        0.0  0.0    0.0         0.0   \n",
       "1451        0.0  0.0    0.0         0.0   \n",
       "1436        0.0  0.0    0.0         0.0   \n",
       "1514        0.0  0.0    0.0         0.0   \n",
       "1586        0.0  0.0    0.0         0.0   \n",
       "1611        0.0  0.0    0.0         0.0   \n",
       "1634        0.0  0.0    0.0         0.0   \n",
       "1626        0.0  0.0    0.0         0.0   \n",
       "\n",
       "                                              Nutrients  \n",
       "1435  SoortPer 100 GramEnergie389 kJ (93 kcal)Vet5 g...  \n",
       "1405  SoortPer 100 GramEnergie544 kJ (131 kcal)Vet9....  \n",
       "1456  SoortPer 100 MilliliterEnergie143 kJ (34 kcal)...  \n",
       "1451  SoortPer 100 GramRI*Energie215 kJ (52 kcal)Vet...  \n",
       "1436  SoortPer 100 GramRI*Energie286 kJ (68 kcal)Vet...  \n",
       "1514  SoortPer 100 MilliliterRI*Energie295 kJ (70 kc...  \n",
       "1586  SoortPer 100 MilliliterRI*Energie2590 kJ (630 ...  \n",
       "1611  SoortPer 100 MilliliterEnergie405 kJ (96 kcal)...  \n",
       "1634  SoortPer 100 GramEnergie2794 kJ (679 kcal)Vet7...  \n",
       "1626  SoortPer 100 MilliliterEnergie509 kJ (124 kcal...  "
      ]
     },
     "execution_count": 74,
     "metadata": {},
     "output_type": "execute_result"
    }
   ],
   "source": [
    "# Test the recommendations\n",
    "get_recommendations('AH Griekse stijl portie')[0:11].sort_values(['Nutri-Score'], ascending=[True]).head(10)"
   ]
  },
  {
   "cell_type": "markdown",
   "metadata": {},
   "source": [
    "### User input\n",
    "\n",
    "The user input, in this case, can be seen as a grcoery list where users need to add products to a grocery list. "
   ]
  },
  {
   "cell_type": "code",
   "execution_count": 133,
   "metadata": {},
   "outputs": [],
   "source": [
    "grocery_list = []"
   ]
  },
  {
   "cell_type": "code",
   "execution_count": null,
   "metadata": {},
   "outputs": [],
   "source": [
    "user_input = input(\"Voeg (eetbare) producten toe aan je boodschappenlijstje.\")"
   ]
  },
  {
   "cell_type": "code",
   "execution_count": null,
   "metadata": {},
   "outputs": [],
   "source": [
    "grocery_list.append(user_input)"
   ]
  },
  {
   "cell_type": "code",
   "execution_count": null,
   "metadata": {},
   "outputs": [],
   "source": [
    "print(grocery_list)"
   ]
  },
  {
   "cell_type": "markdown",
   "metadata": {},
   "source": [
    "### Find similar products with DiffLib.get_close_matches"
   ]
  },
  {
   "cell_type": "code",
   "execution_count": null,
   "metadata": {},
   "outputs": [],
   "source": [
    "# With the library difflib.get_close_matches, user input will be matched with existing products from the dataset\n",
    "import difflib"
   ]
  },
  {
   "cell_type": "code",
   "execution_count": null,
   "metadata": {},
   "outputs": [],
   "source": [
    "words = df1['Title']\n",
    "\n",
    "match_list = difflib.get_close_matches(user_input, words)"
   ]
  },
  {
   "cell_type": "code",
   "execution_count": null,
   "metadata": {},
   "outputs": [],
   "source": [
    "# The user has to choose from one of the suggestions above in real life \n",
    "chosen_item = match_list\n",
    "print(chosen_item)"
   ]
  },
  {
   "cell_type": "code",
   "execution_count": null,
   "metadata": {},
   "outputs": [],
   "source": [
    "get_recommendations(chosen_item[1])[1:11].sort_values(['Nutri-Score'], ascending=[True]).head(10)\n"
   ]
  },
  {
   "cell_type": "code",
   "execution_count": null,
   "metadata": {},
   "outputs": [],
   "source": [
    "# The user has to choose from one of the recommendations above\n",
    "healthy_products = [df1.loc[2224], df1.loc[19]]\n",
    "\n",
    "print(healthy_products)"
   ]
  },
  {
   "cell_type": "markdown",
   "metadata": {},
   "source": [
    "# Part II: Recognize patterns and improve recommendations\n",
    "In order to recommend personalized products, a model has to be build to recognize patterns. Figure 1 illustrates the workflow.  "
   ]
  },
  {
   "cell_type": "markdown",
   "metadata": {},
   "source": [
    "![alt text](personalized_system_flowchart.png \"Personalized system\")"
   ]
  },
  {
   "cell_type": "code",
   "execution_count": null,
   "metadata": {},
   "outputs": [],
   "source": [
    "# User adds a product "
   ]
  },
  {
   "cell_type": "code",
   "execution_count": null,
   "metadata": {},
   "outputs": [],
   "source": [
    "# Check if product contains Nutri-Score label C or lower"
   ]
  },
  {
   "cell_type": "code",
   "execution_count": null,
   "metadata": {},
   "outputs": [],
   "source": [
    "# Recommend healthy alternative based on Nutri-Score (A or B)\n",
    "\n",
    "# Condition  Nutri-Score = A or B\n",
    "\n",
    "# AND previously bought product \n",
    "product_history = [] # Somee list from part 1\n",
    "# AND labels \n",
    "labels = df1[['Price_cat', 'BIO', 'Low_sugar', 'Low_fat', 'Plant_based', 'Glutenfree', 'Fairtrade', 'UTZ', 'Vegan', 'Vegetarian'].head()"
   ]
  },
  {
   "cell_type": "code",
   "execution_count": null,
   "metadata": {},
   "outputs": [],
   "source": [
    "# Find similar products (Cosine Similarity?)"
   ]
  }
 ],
 "metadata": {
  "kernelspec": {
   "display_name": "Python 3",
   "language": "python",
   "name": "python3"
  },
  "language_info": {
   "codemirror_mode": {
    "name": "ipython",
    "version": 3
   },
   "file_extension": ".py",
   "mimetype": "text/x-python",
   "name": "python",
   "nbconvert_exporter": "python",
   "pygments_lexer": "ipython3",
   "version": "3.7.6"
  }
 },
 "nbformat": 4,
 "nbformat_minor": 4
}
